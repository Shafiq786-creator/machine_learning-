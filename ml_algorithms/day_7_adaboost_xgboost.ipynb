{
 "cells": [
  {
   "cell_type": "markdown",
   "id": "df405a2e",
   "metadata": {},
   "source": [
    "## **Machine Learning Algorithm**\n",
    "\n",
    "## **Type**: Supervised Learning \n",
    "\n",
    "## **Regression + Classification**\n",
    "\n",
    "## **Day 7**: AdaBoost algorithm + XGBoost Algorithm\n",
    "\n",
    "## **Student**: Muhammad Shafiq\n",
    "\n",
    "-------------------------------------------"
   ]
  },
  {
   "cell_type": "markdown",
   "id": "f3ddb487",
   "metadata": {},
   "source": [
    "# **AdaBoost (Adaptive Boosting machine)**"
   ]
  },
  {
   "cell_type": "markdown",
   "id": "795cadbf",
   "metadata": {},
   "source": [
    "**AdaBoost** (Adaptive Boosting) is an ensemble method that combines multiple weak learners (usually decision stumps) to create a strong learner.\n",
    "\n",
    "**Focuses on misclassified samples**: next weak learner gives more weight to previously misclassified points.\n",
    "\n",
    "Usually used for binary classification, but can extend to multiclass.\n",
    "\n",
    "\n",
    "**Update sample weights**: increase weight for misclassified, decrease for correct.\n",
    "\n",
    "**Final prediction**: weighted majority vote of all weak learners.\n",
    "\n",
    "### **Pros:**\n",
    "\n",
    "- Simple yet powerful\n",
    "\n",
    "- Reduces bias\n",
    "\n",
    "- Works well on small datasets\n",
    "\n",
    "### **Cons:**\n",
    "\n",
    "- Sensitive to noisy data & outliers\n",
    "\n",
    "- Less effective for very large datasets\n",
    "\n",
    "**Use Cases:**\n",
    "\n",
    "- Fraud detection\n",
    "\n",
    "- Customer churn prediction\n",
    "\n",
    "- Binary classification problems in general"
   ]
  },
  {
   "cell_type": "markdown",
   "id": "82a39544",
   "metadata": {},
   "source": [
    "### **Implementation of code**"
   ]
  },
  {
   "cell_type": "markdown",
   "id": "d75a97cb",
   "metadata": {},
   "source": [
    "### **AdaBoost Classifier**"
   ]
  },
  {
   "cell_type": "code",
   "execution_count": 1,
   "id": "7a496808",
   "metadata": {},
   "outputs": [
    {
     "name": "stdout",
     "output_type": "stream",
     "text": [
      "[[40  3]\n",
      " [ 1 70]]\n",
      "              precision    recall  f1-score   support\n",
      "\n",
      "           0       0.98      0.93      0.95        43\n",
      "           1       0.96      0.99      0.97        71\n",
      "\n",
      "    accuracy                           0.96       114\n",
      "   macro avg       0.97      0.96      0.96       114\n",
      "weighted avg       0.97      0.96      0.96       114\n",
      "\n"
     ]
    }
   ],
   "source": [
    "# Step 1: Import libraries\n",
    "from sklearn.datasets import load_breast_cancer\n",
    "from sklearn.model_selection import train_test_split\n",
    "from sklearn.preprocessing import StandardScaler\n",
    "from sklearn.ensemble import AdaBoostClassifier\n",
    "from sklearn.metrics import classification_report, confusion_matrix\n",
    "\n",
    "# Step 2: Load dataset\n",
    "data = load_breast_cancer()\n",
    "X, y = data.data, data.target\n",
    "\n",
    "# Step 3: Feature scaling\n",
    "scaler = StandardScaler()\n",
    "X_scaled = scaler.fit_transform(X)\n",
    "\n",
    "# Step 4: Train-test split\n",
    "X_train, X_test, y_train, y_test = train_test_split(\n",
    "    X_scaled, y, test_size=0.2, random_state=42\n",
    ")\n",
    "\n",
    "# Step 5: Initialize and train AdaBoost\n",
    "model = AdaBoostClassifier(n_estimators=50, learning_rate=1.0, random_state=42)\n",
    "model.fit(X_train, y_train)\n",
    "\n",
    "# Step 6: Predict & evaluate\n",
    "y_pred = model.predict(X_test)\n",
    "print(confusion_matrix(y_test, y_pred))\n",
    "print(classification_report(y_test, y_pred))\n"
   ]
  },
  {
   "cell_type": "markdown",
   "id": "fbc824b4",
   "metadata": {},
   "source": [
    "----------------------------------------"
   ]
  },
  {
   "cell_type": "markdown",
   "id": "24b56fa0",
   "metadata": {},
   "source": [
    "# **Topic no: 2 XGBoost (Extreme Gradient Boosting Machine)**"
   ]
  },
  {
   "cell_type": "markdown",
   "id": "69e9d0f7",
   "metadata": {},
   "source": [
    "**XGBoost** (Extreme Gradient Boosting) is an optimized gradient boosting algorithm.\n",
    "\n",
    "- Based on boosting (like AdaBoost), but uses gradient descent on loss function.\n",
    "\n",
    "- Highly efficient, supports regularization, handles missing values, parallel computation.\n",
    "\n",
    "### **Key Concepts:**\n",
    "\n",
    "- Boosting → Combine weak learners sequentially to reduce bias.\n",
    "\n",
    "- Objective function → Loss + Regularization\n",
    "\n",
    "- Tree-based model → Decision trees as weak learners\n",
    "\n",
    "- Gradient descent → Minimizes prediction error\n",
    "\n",
    "### **Pros**:\n",
    "\n",
    "- High performance on structured/tabular data\n",
    "\n",
    "- Fast training with large datasets\n",
    "\n",
    "- Handles missing data and regularization\n",
    "\n",
    "**Cons**:\n",
    "\n",
    "- Complex hyperparameter tuning\n",
    "\n",
    "- Less interpretable than simple trees\n",
    "\n",
    "**Use Cases**:\n",
    "\n",
    "- Kaggle competitions (structured data)\n",
    "\n",
    "- Customer churn, credit scoring, fraud detection"
   ]
  },
  {
   "cell_type": "markdown",
   "id": "8495e0f9",
   "metadata": {},
   "source": [
    "## **Implementation code**"
   ]
  },
  {
   "cell_type": "code",
   "execution_count": 5,
   "id": "d8b0f5df",
   "metadata": {},
   "outputs": [
    {
     "name": "stdout",
     "output_type": "stream",
     "text": [
      "Collecting xgboost\n",
      "  Downloading xgboost-3.0.4-py3-none-win_amd64.whl.metadata (2.1 kB)\n",
      "Requirement already satisfied: numpy in c:\\users\\hafiz computer cc\\miniconda3\\envs\\ml_algorithm\\lib\\site-packages (from xgboost) (2.2.6)\n",
      "Requirement already satisfied: scipy in c:\\users\\hafiz computer cc\\miniconda3\\envs\\ml_algorithm\\lib\\site-packages (from xgboost) (1.15.3)\n",
      "Downloading xgboost-3.0.4-py3-none-win_amd64.whl (56.8 MB)\n",
      "   ---------------------------------------- 0.0/56.8 MB ? eta -:--:--\n",
      "   ---------------------------------------- 0.0/56.8 MB ? eta -:--:--\n",
      "   ---------------------------------------- 0.3/56.8 MB ? eta -:--:--\n",
      "    --------------------------------------- 0.8/56.8 MB 1.7 MB/s eta 0:00:34\n",
      "    --------------------------------------- 1.3/56.8 MB 1.8 MB/s eta 0:00:31\n",
      "   - -------------------------------------- 1.8/56.8 MB 1.9 MB/s eta 0:00:29\n",
      "   - -------------------------------------- 2.4/56.8 MB 2.0 MB/s eta 0:00:28\n",
      "   - -------------------------------------- 2.6/56.8 MB 2.0 MB/s eta 0:00:27\n",
      "   -- ------------------------------------- 2.9/56.8 MB 1.8 MB/s eta 0:00:30\n",
      "   -- ------------------------------------- 3.7/56.8 MB 1.9 MB/s eta 0:00:28\n",
      "   -- ------------------------------------- 4.2/56.8 MB 2.0 MB/s eta 0:00:26\n",
      "   --- ------------------------------------ 4.7/56.8 MB 2.1 MB/s eta 0:00:26\n",
      "   --- ------------------------------------ 5.5/56.8 MB 2.2 MB/s eta 0:00:24\n",
      "   ---- ----------------------------------- 6.6/56.8 MB 2.3 MB/s eta 0:00:22\n",
      "   ----- ---------------------------------- 7.3/56.8 MB 2.4 MB/s eta 0:00:21\n",
      "   ----- ---------------------------------- 7.9/56.8 MB 2.4 MB/s eta 0:00:21\n",
      "   ----- ---------------------------------- 8.4/56.8 MB 2.5 MB/s eta 0:00:20\n",
      "   ------ --------------------------------- 9.2/56.8 MB 2.5 MB/s eta 0:00:19\n",
      "   ------- -------------------------------- 10.0/56.8 MB 2.6 MB/s eta 0:00:19\n",
      "   ------- -------------------------------- 10.5/56.8 MB 2.6 MB/s eta 0:00:18\n",
      "   ------- -------------------------------- 11.3/56.8 MB 2.6 MB/s eta 0:00:18\n",
      "   -------- ------------------------------- 12.1/56.8 MB 2.6 MB/s eta 0:00:17\n",
      "   -------- ------------------------------- 12.6/56.8 MB 2.6 MB/s eta 0:00:17\n",
      "   --------- ------------------------------ 13.1/56.8 MB 2.6 MB/s eta 0:00:17\n",
      "   --------- ------------------------------ 13.4/56.8 MB 2.6 MB/s eta 0:00:17\n",
      "   --------- ------------------------------ 14.2/56.8 MB 2.6 MB/s eta 0:00:17\n",
      "   ---------- ----------------------------- 14.7/56.8 MB 2.6 MB/s eta 0:00:17\n",
      "   ---------- ----------------------------- 15.5/56.8 MB 2.6 MB/s eta 0:00:16\n",
      "   ----------- ---------------------------- 16.3/56.8 MB 2.7 MB/s eta 0:00:16\n",
      "   ----------- ---------------------------- 16.8/56.8 MB 2.7 MB/s eta 0:00:16\n",
      "   ------------ --------------------------- 17.6/56.8 MB 2.7 MB/s eta 0:00:15\n",
      "   ------------ --------------------------- 18.4/56.8 MB 2.7 MB/s eta 0:00:15\n",
      "   ------------- -------------------------- 19.4/56.8 MB 2.8 MB/s eta 0:00:14\n",
      "   -------------- ------------------------- 19.9/56.8 MB 2.8 MB/s eta 0:00:14\n",
      "   -------------- ------------------------- 20.4/56.8 MB 2.8 MB/s eta 0:00:14\n",
      "   -------------- ------------------------- 21.2/56.8 MB 2.8 MB/s eta 0:00:13\n",
      "   --------------- ------------------------ 22.3/56.8 MB 2.8 MB/s eta 0:00:13\n",
      "   ---------------- ----------------------- 22.8/56.8 MB 2.9 MB/s eta 0:00:12\n",
      "   ---------------- ----------------------- 23.6/56.8 MB 2.8 MB/s eta 0:00:12\n",
      "   ----------------- ---------------------- 24.4/56.8 MB 2.9 MB/s eta 0:00:12\n",
      "   ----------------- ---------------------- 24.9/56.8 MB 2.9 MB/s eta 0:00:12\n",
      "   ------------------ --------------------- 25.7/56.8 MB 2.9 MB/s eta 0:00:11\n",
      "   ------------------ --------------------- 26.2/56.8 MB 2.9 MB/s eta 0:00:11\n",
      "   ------------------ --------------------- 26.7/56.8 MB 2.9 MB/s eta 0:00:11\n",
      "   ------------------- -------------------- 27.5/56.8 MB 2.9 MB/s eta 0:00:11\n",
      "   ------------------- -------------------- 28.0/56.8 MB 2.9 MB/s eta 0:00:11\n",
      "   -------------------- ------------------- 28.8/56.8 MB 2.9 MB/s eta 0:00:10\n",
      "   -------------------- ------------------- 29.4/56.8 MB 2.9 MB/s eta 0:00:10\n",
      "   --------------------- ------------------ 29.9/56.8 MB 2.9 MB/s eta 0:00:10\n",
      "   --------------------- ------------------ 30.7/56.8 MB 2.9 MB/s eta 0:00:10\n",
      "   --------------------- ------------------ 31.2/56.8 MB 2.9 MB/s eta 0:00:09\n",
      "   ---------------------- ----------------- 31.7/56.8 MB 2.8 MB/s eta 0:00:09\n",
      "   ---------------------- ----------------- 32.0/56.8 MB 2.8 MB/s eta 0:00:09\n",
      "   ---------------------- ----------------- 32.5/56.8 MB 2.8 MB/s eta 0:00:09\n",
      "   ----------------------- ---------------- 33.0/56.8 MB 2.8 MB/s eta 0:00:09\n",
      "   ----------------------- ---------------- 33.6/56.8 MB 2.8 MB/s eta 0:00:09\n",
      "   ----------------------- ---------------- 34.1/56.8 MB 2.8 MB/s eta 0:00:09\n",
      "   ------------------------ --------------- 34.6/56.8 MB 2.8 MB/s eta 0:00:08\n",
      "   ------------------------ --------------- 35.4/56.8 MB 2.8 MB/s eta 0:00:08\n",
      "   ------------------------- -------------- 35.9/56.8 MB 2.8 MB/s eta 0:00:08\n",
      "   ------------------------- -------------- 36.7/56.8 MB 2.8 MB/s eta 0:00:08\n",
      "   -------------------------- ------------- 37.2/56.8 MB 2.8 MB/s eta 0:00:08\n",
      "   -------------------------- ------------- 37.7/56.8 MB 2.8 MB/s eta 0:00:07\n",
      "   --------------------------- ------------ 38.5/56.8 MB 2.8 MB/s eta 0:00:07\n",
      "   --------------------------- ------------ 39.6/56.8 MB 2.8 MB/s eta 0:00:07\n",
      "   ---------------------------- ----------- 40.1/56.8 MB 2.8 MB/s eta 0:00:06\n",
      "   ---------------------------- ----------- 40.9/56.8 MB 2.8 MB/s eta 0:00:06\n",
      "   ----------------------------- ---------- 41.9/56.8 MB 2.8 MB/s eta 0:00:06\n",
      "   ------------------------------ --------- 42.7/56.8 MB 2.9 MB/s eta 0:00:05\n",
      "   ------------------------------ --------- 43.5/56.8 MB 2.9 MB/s eta 0:00:05\n",
      "   ------------------------------- -------- 44.3/56.8 MB 2.9 MB/s eta 0:00:05\n",
      "   ------------------------------- -------- 45.1/56.8 MB 2.9 MB/s eta 0:00:05\n",
      "   -------------------------------- ------- 46.1/56.8 MB 2.9 MB/s eta 0:00:04\n",
      "   -------------------------------- ------- 46.7/56.8 MB 2.9 MB/s eta 0:00:04\n",
      "   --------------------------------- ------ 47.2/56.8 MB 2.9 MB/s eta 0:00:04\n",
      "   --------------------------------- ------ 47.2/56.8 MB 2.9 MB/s eta 0:00:04\n",
      "   --------------------------------- ------ 47.4/56.8 MB 2.9 MB/s eta 0:00:04\n",
      "   --------------------------------- ------ 47.7/56.8 MB 2.8 MB/s eta 0:00:04\n",
      "   --------------------------------- ------ 48.0/56.8 MB 2.8 MB/s eta 0:00:04\n",
      "   ---------------------------------- ----- 48.8/56.8 MB 2.8 MB/s eta 0:00:03\n",
      "   ---------------------------------- ----- 49.5/56.8 MB 2.8 MB/s eta 0:00:03\n",
      "   ----------------------------------- ---- 50.3/56.8 MB 2.8 MB/s eta 0:00:03\n",
      "   ----------------------------------- ---- 50.9/56.8 MB 2.8 MB/s eta 0:00:03\n",
      "   ------------------------------------ --- 51.6/56.8 MB 2.8 MB/s eta 0:00:02\n",
      "   ------------------------------------ --- 52.4/56.8 MB 2.8 MB/s eta 0:00:02\n",
      "   ------------------------------------- -- 53.2/56.8 MB 2.8 MB/s eta 0:00:02\n",
      "   ------------------------------------- -- 53.7/56.8 MB 2.8 MB/s eta 0:00:02\n",
      "   -------------------------------------- - 54.3/56.8 MB 2.8 MB/s eta 0:00:01\n",
      "   -------------------------------------- - 55.1/56.8 MB 2.8 MB/s eta 0:00:01\n",
      "   ---------------------------------------  55.8/56.8 MB 2.8 MB/s eta 0:00:01\n",
      "   ---------------------------------------  56.4/56.8 MB 2.8 MB/s eta 0:00:01\n",
      "   ---------------------------------------  56.6/56.8 MB 2.8 MB/s eta 0:00:01\n",
      "   ---------------------------------------  56.6/56.8 MB 2.8 MB/s eta 0:00:01\n",
      "   ---------------------------------------  56.6/56.8 MB 2.8 MB/s eta 0:00:01\n",
      "   ---------------------------------------- 56.8/56.8 MB 2.7 MB/s eta 0:00:00\n",
      "Installing collected packages: xgboost\n",
      "Successfully installed xgboost-3.0.4\n",
      "Note: you may need to restart the kernel to use updated packages.\n"
     ]
    }
   ],
   "source": [
    "pip install xgboost"
   ]
  },
  {
   "cell_type": "code",
   "execution_count": 6,
   "id": "e7959cc9",
   "metadata": {},
   "outputs": [
    {
     "name": "stderr",
     "output_type": "stream",
     "text": [
      "c:\\Users\\Hafiz Computer CC\\miniconda3\\envs\\ml_algorithm\\lib\\site-packages\\xgboost\\training.py:183: UserWarning: [06:34:53] WARNING: C:\\actions-runner\\_work\\xgboost\\xgboost\\src\\learner.cc:738: \n",
      "Parameters: { \"use_label_encoder\" } are not used.\n",
      "\n",
      "  bst.update(dtrain, iteration=i, fobj=obj)\n"
     ]
    },
    {
     "name": "stdout",
     "output_type": "stream",
     "text": [
      "[[40  3]\n",
      " [ 2 69]]\n",
      "              precision    recall  f1-score   support\n",
      "\n",
      "           0       0.95      0.93      0.94        43\n",
      "           1       0.96      0.97      0.97        71\n",
      "\n",
      "    accuracy                           0.96       114\n",
      "   macro avg       0.96      0.95      0.95       114\n",
      "weighted avg       0.96      0.96      0.96       114\n",
      "\n"
     ]
    }
   ],
   "source": [
    "# Step 1: Import libraries\n",
    "from xgboost import XGBClassifier, XGBRegressor\n",
    "from sklearn.datasets import load_breast_cancer\n",
    "from sklearn.model_selection import train_test_split\n",
    "from sklearn.preprocessing import StandardScaler\n",
    "from sklearn.metrics import classification_report, confusion_matrix\n",
    "\n",
    "# Step 2: Load dataset\n",
    "data = load_breast_cancer()\n",
    "X, y = data.data, data.target\n",
    "\n",
    "# Step 3: Feature scaling\n",
    "scaler = StandardScaler()\n",
    "X_scaled = scaler.fit_transform(X)\n",
    "\n",
    "# Step 4: Train-test split\n",
    "X_train, X_test, y_train, y_test = train_test_split(\n",
    "    X_scaled, y, test_size=0.2, random_state=42\n",
    ")\n",
    "\n",
    "# Step 5: Initialize and train XGBoost\n",
    "model = XGBClassifier(\n",
    "    n_estimators=100,\n",
    "    learning_rate=0.1,\n",
    "    max_depth=3,\n",
    "    use_label_encoder=False,\n",
    "    eval_metric='logloss',\n",
    "    random_state=42\n",
    ")\n",
    "model.fit(X_train, y_train)\n",
    "\n",
    "# Step 6: Predict & evaluate\n",
    "y_pred = model.predict(X_test)\n",
    "print(confusion_matrix(y_test, y_pred))\n",
    "print(classification_report(y_test, y_pred))\n"
   ]
  }
 ],
 "metadata": {
  "kernelspec": {
   "display_name": "ml_algorithm",
   "language": "python",
   "name": "python3"
  },
  "language_info": {
   "codemirror_mode": {
    "name": "ipython",
    "version": 3
   },
   "file_extension": ".py",
   "mimetype": "text/x-python",
   "name": "python",
   "nbconvert_exporter": "python",
   "pygments_lexer": "ipython3",
   "version": "3.10.18"
  }
 },
 "nbformat": 4,
 "nbformat_minor": 5
}

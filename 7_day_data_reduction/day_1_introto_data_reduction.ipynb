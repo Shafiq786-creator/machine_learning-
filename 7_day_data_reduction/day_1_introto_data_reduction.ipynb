{
 "cells": [
  {
   "cell_type": "markdown",
   "id": "baba97d3",
   "metadata": {},
   "source": [
    "# **7 Days Data Reduction Course**\n",
    "\n",
    "# **Course** : Machine Learning \n",
    "\n",
    "# **Day 1:** Introduction to Data Reduction\n",
    "\n",
    "# **Student**: Muhammad Shafiq\n",
    "\n",
    "-----------------------------------"
   ]
  },
  {
   "cell_type": "markdown",
   "id": "84f0fc1f",
   "metadata": {},
   "source": [
    "## **Day 1 Objectives**"
   ]
  },
  {
   "cell_type": "markdown",
   "id": "3d607f2f",
   "metadata": {},
   "source": [
    "| Goal                                | Explanation                                                     |\n",
    "| ----------------------------------- | --------------------------------------------------------------- |\n",
    "|  Understand what Data Reduction is | Real logic behind column, row, and dimension reduction          |\n",
    "|  Why it matters in ML projects     | Performance, accuracy, generalization                           |\n",
    "|  Types of Data Reduction           | Feature Selection, Dimensionality Reduction, Instance Reduction |\n",
    "|  Real-world scenarios              | Where and how to use                                            |\n",
    "|  Mini Coding Project               | Basic demo on when and how reduction improves model performance |\n"
   ]
  },
  {
   "cell_type": "markdown",
   "id": "aae8886a",
   "metadata": {},
   "source": [
    "### **Data Reduction**"
   ]
  },
  {
   "cell_type": "markdown",
   "id": "404bd587",
   "metadata": {},
   "source": [
    "**Data Reduction** mean reducing the size or complexity of a dataset -- while keeping key information that models need to learn.\n"
   ]
  },
  {
   "cell_type": "markdown",
   "id": "b028361a",
   "metadata": {},
   "source": [
    "### **Why data reduction is important?**\n",
    "\n",
    "| Problem            | Without Data Reduction                    | With Data Reduction             |\n",
    "| ------------------ | ----------------------------------------- | ------------------------------- |\n",
    "|  Model Accuracy  | Overfitting due to noisy/unnecessary data | Better generalization           |\n",
    "|  Speed           | Slow training and high memory usage       | Fast training and lower memory  |\n",
    "|  Inference       | Laggy predictions on real-time systems    | Quick and efficient predictions |\n",
    "|  Maintainability | Hard to debug models                      | Easier to interpret & monitor   |\n"
   ]
  },
  {
   "cell_type": "markdown",
   "id": "e5fa7143",
   "metadata": {},
   "source": [
    "### **Three types of Data Reduction**"
   ]
  },
  {
   "cell_type": "markdown",
   "id": "3278b0d3",
   "metadata": {},
   "source": [
    "| Type                              | Target                                                  | Example                                |\n",
    "| --------------------------------- | ------------------------------------------------------- | -------------------------------------- |\n",
    "| 🔹 **Feature (Column) Reduction** | Remove irrelevant or redundant features                 | Drop highly correlated columns         |\n",
    "| 🔹 **Instance (Row) Reduction**   | Remove unnecessary rows                                 | Remove outliers or duplicates          |\n",
    "| 🔹 **Dimensionality Reduction**   | Reduce complex numerical features into fewer dimensions | PCA on 1000 image pixels → 20 features |\n"
   ]
  },
  {
   "cell_type": "markdown",
   "id": "e1d0410d",
   "metadata": {},
   "source": [
    "### **Real-World Examples**"
   ]
  },
  {
   "cell_type": "markdown",
   "id": "fbbc5b95",
   "metadata": {},
   "source": [
    "| Use Case        | Dataset                      | Reduction Logic                                                 |\n",
    "| --------------- | ---------------------------- | --------------------------------------------------------------- |\n",
    "|  Healthcare   | X-ray, CT Scans              | Reduce image resolution, remove noisy samples                   |\n",
    "|  Telecom      | Customer Churn               | Remove features like `Phone number`, reduce dimension using PCA |\n",
    "|  Agriculture  | Crop yield dataset           | Remove outlier farms or low-variance columns                    |\n",
    "|  Self-driving | Camera + Lidar sensor fusion | Reduce sensor noise, merge redundant frames                     |\n"
   ]
  },
  {
   "cell_type": "markdown",
   "id": "2d7add7a",
   "metadata": {},
   "source": [
    "### **import libraries**"
   ]
  },
  {
   "cell_type": "code",
   "execution_count": null,
   "id": "28d9e221",
   "metadata": {},
   "outputs": [],
   "source": [
    "import pandas as pd\n",
    "import numpy as np\n",
    "from sklearn.datasets import load_breast_cancer\n",
    "from sklearn.model_selection import train_test_split\n",
    "from sklearn.linear_model import LogisticRegression\n",
    "from sklearn.metrics import accuracy_score\n",
    "import seaborn as sns\n",
    "import matplotlib.pyplot as plt\n"
   ]
  },
  {
   "cell_type": "markdown",
   "id": "5a01ab26",
   "metadata": {},
   "source": [
    "### **Load dataset**"
   ]
  },
  {
   "cell_type": "code",
   "execution_count": null,
   "id": "1126dba9",
   "metadata": {},
   "outputs": [],
   "source": [
    "data = load_breast_cancer()\n",
    "X = pd.DataFrame(data.data, columns=data.feature_names)\n",
    "y = data.target\n",
    "print(\"Original shape:\", X.shape)\n"
   ]
  },
  {
   "cell_type": "markdown",
   "id": "dd6134b9",
   "metadata": {},
   "source": [
    "### **Add useless column**\n"
   ]
  },
  {
   "cell_type": "code",
   "execution_count": null,
   "id": "60660ea2",
   "metadata": {},
   "outputs": [],
   "source": [
    "np.random.seed(42)\n",
    "X['random_noise']= np.random.random(size=X.shape[0])\n",
    "X['duplicate_mean'] = X['mean radius'] * 1\n",
    "\n",
    "print(\"New shape with junk features: \", X.shape)\n"
   ]
  },
  {
   "cell_type": "markdown",
   "id": "582883dd",
   "metadata": {},
   "source": [
    "### **Train model without reduction**\n"
   ]
  },
  {
   "cell_type": "code",
   "execution_count": null,
   "id": "245c759c",
   "metadata": {},
   "outputs": [],
   "source": [
    "X_train, X_test, y_train, y_test = train_test_split(X, y, test_size=0.2, random_state=42)\n",
    "\n",
    "model = LogisticRegression(max_iter=1000)\n",
    "model.fit(X_train, y_train)\n",
    "preds = model.predict(X_test)\n",
    "print(\"Accuracy with noise:\", accuracy_score(y_test, preds))\n"
   ]
  },
  {
   "cell_type": "markdown",
   "id": "0f7034e5",
   "metadata": {},
   "source": [
    "## **Now Reduce Columns**"
   ]
  },
  {
   "cell_type": "code",
   "execution_count": null,
   "id": "5901548c",
   "metadata": {},
   "outputs": [],
   "source": [
    "X_clean = X.drop(columns=['random_noise','duplicate_mean'])\n",
    "X_train2, X_test2, y_train2, y_test2 = train_test_split(X_clean, y, test_size=0.2, random_state=42)\n",
    "\n",
    "model = LogisticRegression(max_iter=1000)\n",
    "model2.fit(X_train2, y_train2)\n",
    "pred2 = model2.predict(X_test2)\n",
    "print(\"Accuracy after column reduction:\", accuracy_score(y_test2, preds2))\n"
   ]
  },
  {
   "cell_type": "markdown",
   "id": "93b9cd5f",
   "metadata": {},
   "source": [
    "### **Visualizing Correlation**"
   ]
  },
  {
   "cell_type": "code",
   "execution_count": null,
   "id": "02d2ac1c",
   "metadata": {},
   "outputs": [],
   "source": [
    "corr = X.corr()\n",
    "plt.figure(figsize=(12, 10))\n",
    "sns.heatmap(corr, cmap='coolwarm', annot=False)\n",
    "plt.title('Correlation Heatmap')\n",
    "plt.show()"
   ]
  },
  {
   "cell_type": "markdown",
   "id": "ccc6164b",
   "metadata": {},
   "source": [
    "### **📝 Mini Task (For You Today):**\n",
    "\n",
    "1. Run the above code on your system ✅\n",
    "\n",
    "2. Try replacing the dataset with:\n",
    "\n",
    "     - Titanic dataset\n",
    "\n",
    "     - Heart disease dataset\n",
    " \n",
    "3. Identify at least 2 columns that are:\n",
    "\n",
    "     - Irrelevant\n",
    "\n",
    "     - Duplicate or highly correlated\n",
    "\n",
    "4. Measure the accuracy before and after removing them."
   ]
  }
 ],
 "metadata": {
  "kernelspec": {
   "display_name": "data_reduction",
   "language": "python",
   "name": "python3"
  },
  "language_info": {
   "name": "python",
   "version": "3.10.18"
  }
 },
 "nbformat": 4,
 "nbformat_minor": 5
}

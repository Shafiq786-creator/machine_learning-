{
 "cells": [
  {
   "cell_type": "markdown",
   "id": "62423c53",
   "metadata": {},
   "source": [
    "# **7 Days Data transformation Course**\n",
    "\n",
    "# **Course** : Machine Learning \n",
    "\n",
    "# **Day 2:** Numerical Feature Transformation\n",
    "\n",
    "# **Student**: Muhammad Shafiq\n",
    "\n",
    "-----------------------------------"
   ]
  },
  {
   "cell_type": "markdown",
   "id": "b4264586",
   "metadata": {},
   "source": [
    "### **Today Covered Topics**"
   ]
  },
  {
   "cell_type": "markdown",
   "id": "7611af0f",
   "metadata": {},
   "source": [
    "| Topic                                      | Covered Today |\n",
    "| ------------------------------------------ | ------------- |\n",
    "| Why we scale/transform numbers             | ✅             |\n",
    "| Visualizing numeric feature distribution   | ✅             |\n",
    "| StandardScaler, MinMaxScaler, RobustScaler | ✅             |\n",
    "| Log transformation for skewed data         | ✅             |\n",
    "| Fitting transformers on train data only    | ✅             |\n",
    "| Real code + before-after visualization     | ✅             |\n"
   ]
  },
  {
   "cell_type": "markdown",
   "id": "5b4dfc9b",
   "metadata": {},
   "source": [
    "### **Load Dataset and Explore**"
   ]
  },
  {
   "cell_type": "code",
   "execution_count": null,
   "id": "315445bf",
   "metadata": {},
   "outputs": [],
   "source": [
    "import pandas as pd\n",
    "\n",
    "url = \"https://raw.githubusercontent.com/datasciencedojo/datasets/master/AmesHousing.csv\"\n",
    "df = pd.read_csv(url)\n",
    "\n",
    "print(df.shape)\n",
    "df.head()"
   ]
  },
  {
   "cell_type": "markdown",
   "id": "6fdc6ff4",
   "metadata": {},
   "source": [
    "### **Identify Numeric Features**"
   ]
  },
  {
   "cell_type": "code",
   "execution_count": null,
   "id": "3fbfb4b3",
   "metadata": {},
   "outputs": [],
   "source": [
    "numeric_cols = df.select_dtypes(include=['int64', 'float64']).columns\n",
    "print(\"Numeric Columns: \", numeric_cols)\n"
   ]
  },
  {
   "cell_type": "markdown",
   "id": "089fd5a2",
   "metadata": {},
   "source": [
    "### **Visualize Before scalling**"
   ]
  },
  {
   "cell_type": "code",
   "execution_count": null,
   "id": "7f613a03",
   "metadata": {},
   "outputs": [],
   "source": [
    "import seaborn as sns\n",
    "import matplotlib.pyplot as plt\n",
    "\n",
    "sns.histplot(df['GrlivArea'], kde=True)\n",
    "plt.title(\"Before scalling : GrLivArea\")\n",
    "plt.show()"
   ]
  },
  {
   "cell_type": "markdown",
   "id": "bcbd9603",
   "metadata": {},
   "source": [
    "### Scaling \n",
    "\n",
    "| Feature      | Range            |\n",
    "| ------------ | ---------------- |\n",
    "| LotArea      | 3,000 – 20,000   |\n",
    "| BedroomAbvGr | 0 – 10           |\n",
    "| SalePrice    | 35,000 – 750,000 |\n"
   ]
  },
  {
   "cell_type": "markdown",
   "id": "76b6a034",
   "metadata": {},
   "source": [
    "### **Apply Standard Scaler**"
   ]
  },
  {
   "cell_type": "code",
   "execution_count": null,
   "id": "8bed9a00",
   "metadata": {},
   "outputs": [],
   "source": [
    "from sklearn.preprocessing import StandardScaler\n",
    "\n",
    "scaler = StandardScaler()\n",
    "\n",
    "# Fit on training data (for now full data)\n",
    "df['GrLivArea_scaled'] = scaler.fit_transform(df[['GrLivArea']])\n",
    "\n",
    "# Compare visually\n",
    "fig, axs = plt.subplots(1, 2, figsize=(12, 4))\n",
    "sns.histplot(df['GrLivArea'], kde=True, ax=axs[0])\n",
    "axs[0].set_title('Original GrLivArea')\n",
    "sns.histplot(df['GrLivArea_scaled'], kde=True, ax=axs[1])\n",
    "axs[1].set_title('Standard Scaled GrLivArea')\n",
    "plt.show()\n"
   ]
  },
  {
   "cell_type": "markdown",
   "id": "bf4f3a83",
   "metadata": {},
   "source": [
    "### **MixMax Scaler**"
   ]
  },
  {
   "cell_type": "code",
   "execution_count": null,
   "id": "9c7862a6",
   "metadata": {},
   "outputs": [],
   "source": [
    "from sklearn.preprocessing import MinMaxScaler\n",
    "\n",
    "minmax = MinMaxScaler()\n",
    "df['GrLivArea_minmax'] = minmax.fit_transform(df[['GrLivArea']])\n",
    "\n",
    "df[['GrLivArea', 'GrLivArea_scaled', 'GrLivArea_minmax']].head()\n",
    "\n",
    "\n",
    "# Data must be between 0 and 1 (neural networks)"
   ]
  },
  {
   "cell_type": "markdown",
   "id": "caca60f6",
   "metadata": {},
   "source": [
    "### **Robust Scler**"
   ]
  },
  {
   "cell_type": "code",
   "execution_count": null,
   "id": "65086c95",
   "metadata": {},
   "outputs": [],
   "source": [
    "from sklearn.preprocessing import RobustScaler\n",
    "\n",
    "robust = RobustScaler()\n",
    "df['GrLivArea_robust'] = robust.fit_transform(df[['GrLivArea']])\n"
   ]
  },
  {
   "cell_type": "markdown",
   "id": "5a5d8dc1",
   "metadata": {},
   "source": [
    "### **Log Transformation(for Skewed Distributions)**"
   ]
  },
  {
   "cell_type": "code",
   "execution_count": null,
   "id": "9ad1d220",
   "metadata": {},
   "outputs": [],
   "source": [
    "import numpy as np\n",
    "\n",
    "df['GrLivArea_log'] = np.log1p(df['GrLivArea'])  # log(x+1)\n",
    "\n",
    "sns.histplot(df['GrLivArea_log'], kde=True)\n",
    "plt.title(\"Log-Transformed GrLivArea\")\n",
    "plt.show()\n"
   ]
  },
  {
   "cell_type": "markdown",
   "id": "e9dedd12",
   "metadata": {},
   "source": [
    "### **Fit Only on Trianing Data**"
   ]
  },
  {
   "cell_type": "code",
   "execution_count": null,
   "id": "037d7adb",
   "metadata": {},
   "outputs": [],
   "source": [
    "# For real projects:\n",
    "scaler = StandardScaler()\n",
    "scaler.fit(X_train[['GrLivArea']])       # only train\n",
    "X_train_scaled = scaler.transform(X_train[['GrLivArea']])\n",
    "X_test_scaled = scaler.transform(X_test[['GrLivArea']])\n"
   ]
  },
  {
   "cell_type": "markdown",
   "id": "bb4b5ed6",
   "metadata": {},
   "source": [
    "### **✅ Assignment**\n",
    "\n",
    "- List top 5 numeric columns from the Ames dataset.\n",
    "\n",
    "- Visualize their distribution.\n",
    "\n",
    "- Try 2 different transformations per column.\n",
    "\n",
    "- Comment: which scaler worked best and why?"
   ]
  }
 ],
 "metadata": {
  "kernelspec": {
   "display_name": "data_transformation",
   "language": "python",
   "name": "python3"
  },
  "language_info": {
   "name": "python",
   "version": "3.10.18"
  }
 },
 "nbformat": 4,
 "nbformat_minor": 5
}
